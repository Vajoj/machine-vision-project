{
 "cells": [
  {
   "cell_type": "code",
   "execution_count": null,
   "id": "a5b57171-481b-47ef-9388-710993618dd8",
   "metadata": {},
   "outputs": [],
   "source": []
  }
 ],
 "metadata": {
  "kernelspec": {
   "display_name": "",
   "name": ""
  },
  "language_info": {
   "name": ""
  }
 },
 "nbformat": 4,
 "nbformat_minor": 5
}
